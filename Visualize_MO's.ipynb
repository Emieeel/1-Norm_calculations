{
 "cells": [
  {
   "cell_type": "markdown",
   "metadata": {},
   "source": [
    "# Visualizing molecular orbitals\n",
    "You can use this notebook to visualize molecular orbitals with the help of Py3Dmol."
   ]
  },
  {
   "cell_type": "markdown",
   "metadata": {},
   "source": [
    "## Visualize molecular structure\n",
    "Use the following to visualize the molecular structure of a molecular geometry .xyz file."
   ]
  },
  {
   "cell_type": "code",
   "execution_count": null,
   "metadata": {},
   "outputs": [],
   "source": [
    "import py3Dmol\n",
    "import module as md\n",
    "from openfermionpsi4._run_psi4 import create_geometry_string\n",
    "import numpy as np\n",
    "\n",
    "H_chain = 0\n",
    "H_ring = 0\n",
    "run_fci = 0\n",
    "run_casci = 0\n",
    "basis = ['sto-3g', 'cc-pvdz'][0]\n",
    "multiplicity = 1\n",
    "consider_cas = 0\n",
    "n_orbitals = 8\n",
    "n_electrons = 8\n",
    "if H_chain:\n",
    "    N_atoms = 12\n",
    "    r = 1.8\n",
    "    if run_fci:\n",
    "        description = 'H'+str(N_atoms) + str(basis) + 'FCI'\n",
    "    elif consider_cas:\n",
    "        description = 'H'+str(N_atoms) + str(basis) + 'ne' + str(n_electrons) +\\\n",
    "            'no' + str(n_orbitals)\n",
    "    geometry = [('H',( 0., 0., z)) for z in np.linspace(0., float(N_atoms)*r, N_atoms)]\n",
    "    XYZ_geo = create_geometry_string(geometry)\n",
    "elif H_ring:\n",
    "    theta = 88 * np.pi/180\n",
    "    r = 1.8\n",
    "    # Introduction of the molecular structure (.xyz file)\n",
    "    geometry = [\n",
    "                ('H', (r*np.cos(theta/2.),   r*np.sin(theta/2.),  0.)),\n",
    "                ('H', (r*np.cos(theta/2.),   -r*np.sin(theta/2.), 0.)),\n",
    "                ('H', (-r*np.cos(theta/2.),  r*np.sin(theta/2.),  0.)),\n",
    "                ('H', (-r*np.cos(theta/2.),  -r*np.sin(theta/2.), 0.))\n",
    "                ]\n",
    "    N_atoms = 4\n",
    "    XYZ_geo = create_geometry_string(geometry)\n",
    "    if run_fci:\n",
    "        description = 'H4' + str(basis) + 'FCI'\n",
    "    elif run_casci or consider_cas:\n",
    "        description = 'H4' + str(basis) + 'ne' + str(n_electrons) + 'no' + str(n_orbitals)\n",
    "    else:\n",
    "        description = 'H4' + str(basis)\n",
    "else:\n",
    "    fname = ['xyz_files/H2nosym.txt','xyz_files/H2COnosym.txt','xyz_files/H10.txt',\\\n",
    "             'xyz_files/C2.txt', 'xyz_files/LiH.txt', 'xyz_files/HLiO.txt', \\\n",
    "             'xyz_files/H2Onosym.txt', 'xyz_files/H14.txt', \\\n",
    "             'xyz_files/hnch2_s0min_dzp.txt', 'xyz_files/hnc3h6_s0min_dzp.txt',\\\n",
    "             'xyz_files/hnc5h10_s0min_dzp.txt', 'xyz_files/hnc7h14_s0min_dzp.txt',\\\n",
    "             'xyz_files/benzene.txt','xyz_files/PCy3.txt','xyz_files/PCy3Cl2Ru.txt',\\\n",
    "             'xyz_files/femoco.txt', 'xyz_files/M06-L.txt','xyz_files/butane.txt',\\\n",
    "             'xyz_files/pentane.txt','xyz_files/hexane.txt','xyz_files/heptane.txt',\\\n",
    "             'xyz_files/butene.txt','xyz_files/pentene.txt','xyz_files/hexene.txt',\\\n",
    "             'xyz_files/heptene.txt'][9]\n",
    "    f = open(fname, 'r')\n",
    "    XYZ_geo = f.read()\n",
    "    N_atoms = md.file_len(fname)\n",
    "    if run_fci:\n",
    "        description = fname.replace('xyz_files/','').replace('.txt','') +\\\n",
    "            str(basis) + 'FCI'\n",
    "    elif run_casci or consider_cas:\n",
    "        description = fname.replace('xyz_files/','').replace('.txt','') + str(basis)\\\n",
    "            + 'ne' + str(n_electrons) + 'no' + str(n_orbitals)\n",
    "    else:\n",
    "        description = fname.replace('xyz_files/','').replace('.txt','') + str(basis)\n",
    "\n",
    "\n",
    "print('number of atoms:',N_atoms)\n",
    "print('number of aos', md.count_ao(XYZ_geo, basis,spin=(multiplicity-1)))\n",
    "# print('geometry:',XYZ_geo)\n",
    "p = py3Dmol.view(width=800,height=1200)\n",
    "p.addModel(\"{} \\n\\n \".format(N_atoms) + XYZ_geo,'xyz')\n",
    "p.setStyle({'sphere':{'scale':'0.15'}, 'stick':{'radius':'0.05'}})\n",
    "p.zoom(3)\n",
    "p.show()"
   ]
  },
  {
   "cell_type": "markdown",
   "metadata": {},
   "source": [
    "## Visualize orbitals\n",
    "Here cube files made in the run_pyscf module can be visualized by an ISO surface plot. The format is 'pyscfcube + description of molecule + localizemethod + localized (Bool) + num of orbital'"
   ]
  },
  {
   "cell_type": "code",
   "execution_count": null,
   "metadata": {},
   "outputs": [],
   "source": [
    "geometry = XYZ_geo\n",
    "print(geometry)\n",
    "print(md.count_elec(geometry,basis))"
   ]
  },
  {
   "cell_type": "code",
   "execution_count": null,
   "metadata": {},
   "outputs": [],
   "source": [
    "from module import Visualize_MO\n",
    "localized = 0\n",
    "randomized = 0\n",
    "localizemethod = ['Pipek-Mezey','ER','Boys'][-1]\n",
    "norb = 13 # Number of orbitals you want to plot\n",
    "for num in range(12,20):\n",
    "    filename = 'pyscfcubeCMO{}{}{}{}{}{}'.format(description,localizemethod,\n",
    "                                              localized, randomized, consider_cas,num)\n",
    "    Visualize_MO(filename, XYZ_geo, N_atoms)"
   ]
  },
  {
   "cell_type": "code",
   "execution_count": null,
   "metadata": {},
   "outputs": [],
   "source": [
    "from module import Visualize_MO\n",
    "localized = 1\n",
    "randomized = 0\n",
    "localizemethod = ['Pipek-Mezey','ER','Boys'][-1]\n",
    "norb = 13 # Number of orbitals you want to plot\n",
    "for num in range(12,20):\n",
    "    filename = 'pyscfcubePM{}{}{}{}{}{}'.format(description,localizemethod,\n",
    "                                              localized, randomized, consider_cas,num)\n",
    "    Visualize_MO(filename, XYZ_geo, N_atoms)"
   ]
  },
  {
   "cell_type": "code",
   "execution_count": null,
   "metadata": {},
   "outputs": [],
   "source": [
    "from module import Visualize_MO\n",
    "localized = 0\n",
    "randomized = 0\n",
    "localizemethod = ['Pipek-Mezey','ER','Boys'][-1]\n",
    "norb = 13 # Number of orbitals you want to plot\n",
    "for num in range(0,12):\n",
    "    filename = 'pyscfcube{}{}{}{}{}{}'.format(description + 'onenorm_orb',localizemethod,\n",
    "                                              localized, randomized, consider_cas,num)\n",
    "    Visualize_MO(filename, XYZ_geo, N_atoms)"
   ]
  },
  {
   "cell_type": "code",
   "execution_count": null,
   "metadata": {
    "scrolled": true
   },
   "outputs": [],
   "source": [
    "from module import Visualize_MO\n",
    "localized = 1\n",
    "randomized = 0\n",
    "localizemethod = ['Pipek-Mezey','ER','Boys'][0]\n",
    "norb = 13 # Number of orbitals you want to plot\n",
    "for num in range(12,20):\n",
    "    filename = 'pyscfcube{}{}{}{}{}{}'.format(description,localizemethod,\n",
    "                                              localized, randomized, consider_cas,num)\n",
    "    Visualize_MO(filename, XYZ_geo, N_atoms)"
   ]
  },
  {
   "cell_type": "code",
   "execution_count": null,
   "metadata": {},
   "outputs": [],
   "source": []
  }
 ],
 "metadata": {
  "kernelspec": {
   "display_name": "Python 3",
   "language": "python",
   "name": "python3"
  },
  "language_info": {
   "codemirror_mode": {
    "name": "ipython",
    "version": 3
   },
   "file_extension": ".py",
   "mimetype": "text/x-python",
   "name": "python",
   "nbconvert_exporter": "python",
   "pygments_lexer": "ipython3",
   "version": "3.7.9"
  },
  "toc": {
   "base_numbering": 1,
   "nav_menu": {},
   "number_sections": false,
   "sideBar": true,
   "skip_h1_title": false,
   "title_cell": "Table of Contents",
   "title_sidebar": "Contents",
   "toc_cell": false,
   "toc_position": {},
   "toc_section_display": true,
   "toc_window_display": false
  }
 },
 "nbformat": 4,
 "nbformat_minor": 4
}
