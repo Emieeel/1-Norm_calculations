{
 "cells": [
  {
   "cell_type": "markdown",
   "metadata": {},
   "source": [
    "# 1-Norm calculations\n",
    "After installing the required libraries, the objective is to find the 1-Norm of the qubit Hamiltonian. This Hamiltonian is defined as:\n",
    "$$\n",
    "\\hat{H}_{\\rm qub} = \\sum_i^{\\mathcal{O}(N^4)} h_i \\hat{P}_i\n",
    "$$\n",
    "which *could* be obtained from \n",
    "$$\n",
    "\\hat{H} = \\sum_{p q}^{N} h_{p q}^{} a_p^\\dagger a_q^{}+ \\frac{1}{2}\\sum_{p q r s}^{N} h_{p q r s}^{} a_p^\\dagger a_q^\\dagger a_r^{} a_s^{}\n",
    "$$\n",
    "through a Jordan-Wigner transformation. This 1-Norm is then defined as the sum of absolute values of the coefficients:\n",
    "$$\n",
    "||\\hat{H}_{\\rm qub}|| = \\sum_i |h_i|\n",
    "$$\n",
    "Instead of doing this JW transformation first, this code gives you the option to directly compute the 1-Norm just from the molecular integrals $h_{pq}$ and $h_{pqrs}$ for any given active space.\n"
   ]
  },
  {
   "cell_type": "code",
   "execution_count": 1,
   "metadata": {},
   "outputs": [],
   "source": [
    "from openfermion import MolecularData\n",
    "from openfermionpyscf import run_pyscf\n",
    "from openfermion.transforms import get_fermion_operator, jordan_wigner,\\\n",
    "    bravyi_kitaev, JW1norm # JW1norm is the module used to compute qubit-1norms directly from integrals\n",
    "import module as md # Module to compute some things like Openfermion geometries\n",
    "import numpy as np"
   ]
  },
  {
   "cell_type": "markdown",
   "metadata": {},
   "source": [
    "## Initialize molecule and calculation parameters"
   ]
  },
  {
   "cell_type": "code",
   "execution_count": 2,
   "metadata": {},
   "outputs": [],
   "source": [
    "# Set molecule parameters. You can run the code on any .xyz geometry you want.\n",
    "# The files have a .txt extension but that shouldn't matter\n",
    "fname = ['xyz_files/H2nosym.txt','xyz_files/H2COnosym.txt','xyz_files/H10.txt',\\\n",
    "         'xyz_files/C2.txt', 'xyz_files/LiH.txt', 'xyz_files/HLiO.txt', \\\n",
    "         'xyz_files/H2Onosym.txt', 'xyz_files/H14.txt', \\\n",
    "         'xyz_files/hnch2_s0min_dzp.txt', 'xyz_files/hnc3h6_s0min_dzp.txt',\\\n",
    "         'xyz_files/hnc5h10_s0min_dzp.txt', 'xyz_files/hnc7h14_s0min_dzp.txt',\\\n",
    "         'xyz_files/benzene.txt','xyz_files/PCy3.txt','xyz_files/PCy3Cl2Ru.txt'][9]\n",
    "basis = ['sto-3g', 'cc-pvdz'][1]\n",
    "multiplicity = 1\n",
    "\n",
    "\n",
    "# Set calculation parameters.\n",
    "run_scf = 1\n",
    "run_mp2 = 0\n",
    "run_cisd = 0\n",
    "run_ccsd = 0\n",
    "run_fci = 0\n",
    "run_casci = 0\n",
    "\n",
    "# Choose to consider an active space. \n",
    "consider_cas = 1\n",
    "# If so, define it through the number of active orbitals and active electrons\n",
    "n_orbitals = 10\n",
    "n_electrons = 10\n",
    "\n",
    "if consider_cas:\n",
    "    localize_cas = 1 # Localize only in the CAS\n",
    "    only_cas = 1 # Store only the CAS integrals in the molecule object\n",
    "else:\n",
    "    localize_cas = 0\n",
    "    only_cas = 0 \n",
    "\n",
    "save_tohdf5 = 0 # Choose if you want to save a file with all the integrals\n",
    "verbose = 0 # Set to 1 if you want a lot of information about the calculation,\n",
    "            # specifically the time each step takes.\n",
    "\n",
    "geometry = md.xyz_to_geom(fname) # OpenFermion format for geometry\n",
    "# Set description of the molecule:\n",
    "if run_fci:\n",
    "    description = fname.replace('xyz_files/','').replace('.txt','') +\\\n",
    "        str(basis) + 'FCI'\n",
    "elif run_casci or consider_cas:\n",
    "    description = fname.replace('xyz_files/','').replace('.txt','') + str(basis)\\\n",
    "        + 'ne' + str(n_electrons) + 'no' + str(n_orbitals)\n",
    "else:\n",
    "    description = fname.replace('xyz_files/','').replace('.txt','') + str(basis)"
   ]
  },
  {
   "cell_type": "markdown",
   "metadata": {},
   "source": [
    "If you want, you can visualize the molecule with py3Dmol. \n",
    "\n",
    "To install py3dmol with pip, run\\\n",
    "`pip install py3Dmol`\\\n",
    "To install py3dmol with conda, run\\\n",
    "`conda install -c conda-forge py3dmol`"
   ]
  },
  {
   "cell_type": "code",
   "execution_count": 3,
   "metadata": {},
   "outputs": [
    {
     "name": "stdout",
     "output_type": "stream",
     "text": [
      "number of atoms: 11\n",
      "geometry: N -0.50747536 0.23273591 -0.35428162\n",
      "C 0.15806969 -0.39299294 0.52445166\n",
      "H -0.41667784 -0.93344006 1.28336632\n",
      "H 0.12146052 0.69990131 -1.01477401\n",
      "C 2.11822521 -1.96552995 0.59759654\n",
      "C 1.64960563 -0.5076048 0.65409196\n",
      "H 3.19650489 -2.03195618 0.74332017\n",
      "H 1.87325068 -2.41217037 -0.36712064\n",
      "H 1.63694049 -2.56122942 1.37568217\n",
      "H 2.13235514 0.08285087 -0.13035969\n",
      "H 1.94444664 -0.0707152 1.61535508\n",
      "\n"
     ]
    },
    {
     "data": {
      "application/3dmoljs_load.v0": "<div id=\"3dmolviewer_16021584338181543\"  style=\"position: relative; width: 400px; height: 300px\">\n        <p id=\"3dmolwarning_16021584338181543\" style=\"background-color:#ffcccc;color:black\">You appear to be running in JupyterLab (or JavaScript failed to load for some other reason).  You need to install the 3dmol extension: <br>\n        <tt>jupyter labextension install jupyterlab_3dmol</tt></p>\n        </div>\n<script>\n\nvar loadScriptAsync = function(uri){\n  return new Promise((resolve, reject) => {\n    var tag = document.createElement('script');\n    tag.src = uri;\n    tag.async = true;\n    tag.onload = () => {\n      resolve();\n    };\n  var firstScriptTag = document.getElementsByTagName('script')[0];\n  firstScriptTag.parentNode.insertBefore(tag, firstScriptTag);\n});\n};\n\nif(typeof $3Dmolpromise === 'undefined') {\n$3Dmolpromise = null;\n  $3Dmolpromise = loadScriptAsync('https://3dmol.csb.pitt.edu/build/3Dmol.js');\n}\n\nvar viewer_16021584338181543 = null;\nvar warn = document.getElementById(\"3dmolwarning_16021584338181543\");\nif(warn) {\n    warn.parentNode.removeChild(warn);\n}\n$3Dmolpromise.then(function() {\nviewer_16021584338181543 = $3Dmol.createViewer($(\"#3dmolviewer_16021584338181543\"),{backgroundColor:\"white\"});\n\tviewer_16021584338181543.addModel(\"11 \\n\\n N -0.50747536 0.23273591 -0.35428162\\nC 0.15806969 -0.39299294 0.52445166\\nH -0.41667784 -0.93344006 1.28336632\\nH 0.12146052 0.69990131 -1.01477401\\nC 2.11822521 -1.96552995 0.59759654\\nC 1.64960563 -0.5076048 0.65409196\\nH 3.19650489 -2.03195618 0.74332017\\nH 1.87325068 -2.41217037 -0.36712064\\nH 1.63694049 -2.56122942 1.37568217\\nH 2.13235514 0.08285087 -0.13035969\\nH 1.94444664 -0.0707152 1.61535508\\n\",\"xyz\");\n\tviewer_16021584338181543.setStyle({\"sphere\": {\"scale\": \"0.15\"}, \"stick\": {\"radius\": \"0.05\"}});\n\tviewer_16021584338181543.zoom(7);\nviewer_16021584338181543.render();\n});\n</script>",
      "text/html": [
       "<div id=\"3dmolviewer_16021584338181543\"  style=\"position: relative; width: 400px; height: 300px\">\n",
       "        <p id=\"3dmolwarning_16021584338181543\" style=\"background-color:#ffcccc;color:black\">You appear to be running in JupyterLab (or JavaScript failed to load for some other reason).  You need to install the 3dmol extension: <br>\n",
       "        <tt>jupyter labextension install jupyterlab_3dmol</tt></p>\n",
       "        </div>\n",
       "<script>\n",
       "\n",
       "var loadScriptAsync = function(uri){\n",
       "  return new Promise((resolve, reject) => {\n",
       "    var tag = document.createElement('script');\n",
       "    tag.src = uri;\n",
       "    tag.async = true;\n",
       "    tag.onload = () => {\n",
       "      resolve();\n",
       "    };\n",
       "  var firstScriptTag = document.getElementsByTagName('script')[0];\n",
       "  firstScriptTag.parentNode.insertBefore(tag, firstScriptTag);\n",
       "});\n",
       "};\n",
       "\n",
       "if(typeof $3Dmolpromise === 'undefined') {\n",
       "$3Dmolpromise = null;\n",
       "  $3Dmolpromise = loadScriptAsync('https://3dmol.csb.pitt.edu/build/3Dmol.js');\n",
       "}\n",
       "\n",
       "var viewer_16021584338181543 = null;\n",
       "var warn = document.getElementById(\"3dmolwarning_16021584338181543\");\n",
       "if(warn) {\n",
       "    warn.parentNode.removeChild(warn);\n",
       "}\n",
       "$3Dmolpromise.then(function() {\n",
       "viewer_16021584338181543 = $3Dmol.createViewer($(\"#3dmolviewer_16021584338181543\"),{backgroundColor:\"white\"});\n",
       "\tviewer_16021584338181543.addModel(\"11 \\n\\n N -0.50747536 0.23273591 -0.35428162\\nC 0.15806969 -0.39299294 0.52445166\\nH -0.41667784 -0.93344006 1.28336632\\nH 0.12146052 0.69990131 -1.01477401\\nC 2.11822521 -1.96552995 0.59759654\\nC 1.64960563 -0.5076048 0.65409196\\nH 3.19650489 -2.03195618 0.74332017\\nH 1.87325068 -2.41217037 -0.36712064\\nH 1.63694049 -2.56122942 1.37568217\\nH 2.13235514 0.08285087 -0.13035969\\nH 1.94444664 -0.0707152 1.61535508\\n\",\"xyz\");\n",
       "\tviewer_16021584338181543.setStyle({\"sphere\": {\"scale\": \"0.15\"}, \"stick\": {\"radius\": \"0.05\"}});\n",
       "\tviewer_16021584338181543.zoom(7);\n",
       "viewer_16021584338181543.render();\n",
       "});\n",
       "</script>"
      ]
     },
     "metadata": {},
     "output_type": "display_data"
    }
   ],
   "source": [
    "import py3Dmol\n",
    "\n",
    "f = open(fname, 'r')\n",
    "XYZ_geo = f.read()\n",
    "N_atoms = md.file_len(fname)\n",
    "print('number of atoms:',N_atoms)\n",
    "print('geometry:',XYZ_geo)\n",
    "p = py3Dmol.view(width=400,height=300)\n",
    "p.addModel(\"{} \\n\\n \".format(N_atoms) + XYZ_geo,'xyz')\n",
    "p.setStyle({'sphere':{'scale':'0.15'}, 'stick':{'radius':'0.05'}})\n",
    "p.zoom(7)\n",
    "p.show()"
   ]
  },
  {
   "cell_type": "markdown",
   "metadata": {},
   "source": [
    "## Calculations\n",
    "Let us first do a calculation with canonical orbitals.\n",
    "\n",
    "We also compute the fermionic 1-norm, defined as:\n",
    "$$\n",
    "\\sum_{pq} |h_{pq}| + \\sum_{pqrs} |h_{pqrs}|\n",
    "$$"
   ]
  },
  {
   "cell_type": "code",
   "execution_count": 4,
   "metadata": {},
   "outputs": [
    {
     "name": "stdout",
     "output_type": "stream",
     "text": [
      "Considering 10 electrons in 10 orbitals\n",
      "---------NON-LOCALIZED_ORBITALS---------\n",
      "pooling took 0.3451251983642578 seconds\n",
      "closing pools took 2.384185791015625e-06\n",
      "adding twobody terms to total took 0.08021330833435059\n",
      "twobody transformation took 0.5199990272521973\n",
      "Normal ordering.....\n",
      "Done normal ordering\n"
     ]
    }
   ],
   "source": [
    "print('Considering', n_electrons, 'electrons in', n_orbitals, 'orbitals')\n",
    "print('---------NON-LOCALIZED_ORBITALS---------')\n",
    "localize = 0\n",
    "localize_virt = 0 \n",
    "# Initialize molecule\n",
    "molecule = MolecularData(\n",
    "    geometry, basis, multiplicity,\n",
    "    description=description)\n",
    "\n",
    "threshold = 1e-10 # If you want, you can set a threshold on the integrals. (Default: 0.)\n",
    "# Run pyscf.\n",
    "molecule = run_pyscf(molecule,\n",
    "                     threshold=threshold,\n",
    "                     run_scf=run_scf,\n",
    "                     run_mp2=run_mp2,\n",
    "                     run_cisd=run_cisd,\n",
    "                     run_ccsd=run_ccsd,\n",
    "                     run_fci=run_fci,\n",
    "                     run_casci=run_casci,\n",
    "                     n_electrons=n_electrons,\n",
    "                     n_orbitals=n_orbitals,\n",
    "                     verbose=verbose,\n",
    "                     localize=localize,\n",
    "                     localize_virt=localize_virt,\n",
    "                     localize_cas=localize_cas,\n",
    "                     only_cas=only_cas,\n",
    "                     save_tohdf5=save_tohdf5)\n",
    "\n",
    "molecular_hamiltonian = molecule.get_molecular_hamiltonian()\n",
    "# Fermionic 1-Norm:\n",
    "ferm1norm = np.sum(np.absolute(molecular_hamiltonian.one_body_tensor)) + \\\n",
    "         np.sum(np.absolute(molecular_hamiltonian.two_body_tensor)) + \\\n",
    "         np.absolute(molecular_hamiltonian.constant)\n",
    "# Calculate the 1-norm after the JW transformation:\n",
    "testqub1norm = jordan_wigner(molecular_hamiltonian).induced_norm()\n",
    "\n",
    "# Calculate the 1-norm with the JW1norm module (much faster):\n",
    "qub1norm = JW1norm(molecular_hamiltonian.constant,\n",
    "                   molecular_hamiltonian.one_body_tensor,\n",
    "                   molecular_hamiltonian.two_body_tensor)"
   ]
  },
  {
   "cell_type": "code",
   "execution_count": 5,
   "metadata": {},
   "outputs": [
    {
     "name": "stdout",
     "output_type": "stream",
     "text": [
      "After finding the canonical molecular orbitals using Hartree-Fock, our molecule hnc3h6_s0min_dzp in an active space of 10 electrons in 10 orbitals, has a fermionic 1-norm of 457.0517201404062 and a qubit 1-norm of 149.98009313438195. To be sure, we also calculated the 1-norm after the JW transformation and it was indeed equal to 149.98009313437646\n"
     ]
    }
   ],
   "source": [
    "print(\"After finding the canonical molecular orbitals using Hartree-Fock, our molecule\",\\\n",
    "      fname.replace('.txt','').replace('xyz_files/',''), \"in an active space of\", str(n_electrons), \\\n",
    "      \"electrons in\", str(n_orbitals), \"orbitals, has a fermionic 1-norm of\", str(ferm1norm), \\\n",
    "      \"and a qubit 1-norm of\", str(qub1norm) + '. To be sure, we also calculated the 1-norm ' +\\\n",
    "      'after the JW transformation and it was indeed equal to', str(testqub1norm))"
   ]
  },
  {
   "cell_type": "markdown",
   "metadata": {},
   "source": [
    "## Localized orbitals\n",
    "We can now try and localize the orbitals, to see if we can lower the 1-norm. Available localization schemes are:\n",
    "- Boys\n",
    "- Pipek-Mezey\n",
    "- Edmiston-Ruedenberg\n",
    "- IBOs (not sure if they actually work)\n",
    "- Orthogonal AOs (only full space)"
   ]
  },
  {
   "cell_type": "code",
   "execution_count": 6,
   "metadata": {
    "scrolled": true
   },
   "outputs": [
    {
     "name": "stdout",
     "output_type": "stream",
     "text": [
      "---------LOCALIZED_ORBITALS---------\n",
      "LOCALIZING TOGETHER n_core 11 n_active 10 n_virtual 70\n",
      "pooling took 0.3245360851287842 seconds\n",
      "closing pools took 3.5762786865234375e-06\n",
      "adding twobody terms to total took 0.0799248218536377\n",
      "twobody transformation took 0.530125617980957\n",
      "Normal ordering.....\n",
      "Done normal ordering\n"
     ]
    }
   ],
   "source": [
    "localize = 1\n",
    "localize_virt = 1 #Choose whether you want to localize the virtual MO's\n",
    "localizemethod = ['Boys','Pipek-Mezey','ibo','ER'][-1]\n",
    "\n",
    "# You can also choose whether you want to mix occupied an virtual orbitals when localizing\n",
    "localize_sep = 0\n",
    "\n",
    "Orth_AO = 0 # If you want to compute orthogonal AOs, please consider the full space (consider_cas = 0)\n",
    "print('---------LOCALIZED_ORBITALS---------')\n",
    "\n",
    "# Initialize molecule\n",
    "molecule = MolecularData(\n",
    "    geometry, basis, multiplicity,\n",
    "    description=description)\n",
    "\n",
    "# Run pyscf.\n",
    "molecule = run_pyscf(molecule,\n",
    "                     threshold=threshold,\n",
    "                     run_scf=run_scf,\n",
    "                     run_mp2=run_mp2,\n",
    "                     run_cisd=run_cisd,\n",
    "                     run_ccsd=run_ccsd,\n",
    "                     run_fci=run_fci,\n",
    "                     run_casci=run_casci,\n",
    "                     n_electrons=n_electrons,\n",
    "                     n_orbitals=n_orbitals,\n",
    "                     verbose=verbose,\n",
    "                     localize=localize,\n",
    "                     localizemethod=localizemethod,\n",
    "                     localize_virt=localize_virt,\n",
    "                     localize_cas=localize_cas,\n",
    "                     only_cas=only_cas,\n",
    "                     localize_sep=localize_sep,\n",
    "                     Orth_AO=Orth_AO,\n",
    "                     save_tohdf5=save_tohdf5)\n",
    "\n",
    "molecular_hamiltonian = molecule.get_molecular_hamiltonian()\n",
    "# Fermionic 1-Norm:\n",
    "ferm1norm = np.sum(np.absolute(molecular_hamiltonian.one_body_tensor)) + \\\n",
    "         np.sum(np.absolute(molecular_hamiltonian.two_body_tensor)) + \\\n",
    "         np.absolute(molecular_hamiltonian.constant)\n",
    "# Calculate the 1-norm after the JW transformation:\n",
    "testqub1norm = jordan_wigner(molecular_hamiltonian).induced_norm()\n",
    "\n",
    "# Calculate the 1-norm with the JW1norm module (much faster):\n",
    "qub1norm = JW1norm(molecular_hamiltonian.constant,\n",
    "                   molecular_hamiltonian.one_body_tensor,\n",
    "                   molecular_hamiltonian.two_body_tensor)"
   ]
  },
  {
   "cell_type": "code",
   "execution_count": 7,
   "metadata": {},
   "outputs": [
    {
     "name": "stdout",
     "output_type": "stream",
     "text": [
      "After finding the ER localized molecular orbitals, our molecule hnc3h6_s0min_dzp in an active space of 10 electrons in 10 orbitals, has a fermionic 1-norm of 380.5592349816821 and a qubit 1-norm of 130.1244322897098. To be sure, we also calculated the 1-norm after the JW transformation and it was indeed equal to 130.1244322897144\n"
     ]
    }
   ],
   "source": [
    "print(\"After finding the\", localizemethod, \"localized molecular orbitals, our molecule\",\\\n",
    "      fname.replace('.txt','').replace('xyz_files/',''), \"in an active space of\", str(n_electrons), \\\n",
    "      \"electrons in\", str(n_orbitals), \"orbitals, has a fermionic 1-norm of\", str(ferm1norm), \\\n",
    "      \"and a qubit 1-norm of\", str(qub1norm) + '. To be sure, we also calculated the 1-norm ' +\\\n",
    "      'after the JW transformation and it was indeed equal to', str(testqub1norm))"
   ]
  },
  {
   "cell_type": "markdown",
   "metadata": {},
   "source": [
    "To really see the effects of localization, you have to consider a big active space. Lets consider the largest formaldimine molecule. I chose an active space of 40 spatial orbitals (you will need approx ~9 GB of memory for this, so if you have a 16GB machine you should be fine. Otherwise, try lowering it to 30 electrons in 30 orbitals)"
   ]
  },
  {
   "cell_type": "code",
   "execution_count": 8,
   "metadata": {},
   "outputs": [],
   "source": [
    "fname = ['xyz_files/H2nosym.txt','xyz_files/H2COnosym.txt','xyz_files/H10.txt',\\\n",
    "         'xyz_files/C2.txt', 'xyz_files/LiH.txt', 'xyz_files/HLiO.txt', \\\n",
    "         'xyz_files/H2Onosym.txt', 'xyz_files/H14.txt', \\\n",
    "         'xyz_files/hnch2_s0min_dzp.txt', 'xyz_files/hnc3h6_s0min_dzp.txt',\\\n",
    "         'xyz_files/hnc5h10_s0min_dzp.txt', 'xyz_files/hnc7h14_s0min_dzp.txt',\\\n",
    "         'xyz_files/benzene.txt','xyz_files/PCy3.txt','xyz_files/PCy3Cl2Ru.txt'][11]\n",
    "\n",
    "basis = ['sto-3g', 'cc-pvdz'][0]\n",
    "multiplicity = 1\n",
    "\n",
    "consider_cas = 1\n",
    "# If so, define it through the number of active orbitals and active electrons\n",
    "nelec = md.count_elec(geometry,basis)\n",
    "n_orbitals = 40\n",
    "if n_orbitals > nelec:\n",
    "    n_electrons = nelec\n",
    "else:\n",
    "    n_electrons = n_orbitals\n",
    "\n",
    "\n",
    "if consider_cas:\n",
    "    localize_cas = 1 # Localize only in the CAS\n",
    "    only_cas = 1 # Store only the CAS integrals in the molecule object\n",
    "else:\n",
    "    localize_cas = 0\n",
    "    only_cas = 0 \n",
    "\n",
    "save_tohdf5 = 0 # Choose if you want to save a file with all the integrals\n",
    "verbose = 0 # Set to 1 if you want a lot of information about the calculation,\n",
    "            # specifically the time each step takes.\n",
    "\n",
    "geometry = md.xyz_to_geom(fname) # OpenFermion format for geometry\n",
    "# Set description of the molecule:\n",
    "if run_fci:\n",
    "    description = fname.replace('xyz_files/','').replace('.txt','') +\\\n",
    "        str(basis) + 'FCI'\n",
    "elif run_casci or consider_cas:\n",
    "    description = fname.replace('xyz_files/','').replace('.txt','') + str(basis)\\\n",
    "        + 'ne' + str(n_electrons) + 'no' + str(n_orbitals)\n",
    "else:\n",
    "    description = fname.replace('xyz_files/','').replace('.txt','') + str(basis)"
   ]
  },
  {
   "cell_type": "markdown",
   "metadata": {},
   "source": [
    "Again, you can visualize it with py3Dmol:"
   ]
  },
  {
   "cell_type": "code",
   "execution_count": 9,
   "metadata": {},
   "outputs": [
    {
     "name": "stdout",
     "output_type": "stream",
     "text": [
      "number of atoms: 23\n"
     ]
    },
    {
     "data": {
      "application/3dmoljs_load.v0": "<div id=\"3dmolviewer_16021485645313416\"  style=\"position: relative; width: 600px; height: 500px\">\n        <p id=\"3dmolwarning_16021485645313416\" style=\"background-color:#ffcccc;color:black\">You appear to be running in JupyterLab (or JavaScript failed to load for some other reason).  You need to install the 3dmol extension: <br>\n        <tt>jupyter labextension install jupyterlab_3dmol</tt></p>\n        </div>\n<script>\n\nvar loadScriptAsync = function(uri){\n  return new Promise((resolve, reject) => {\n    var tag = document.createElement('script');\n    tag.src = uri;\n    tag.async = true;\n    tag.onload = () => {\n      resolve();\n    };\n  var firstScriptTag = document.getElementsByTagName('script')[0];\n  firstScriptTag.parentNode.insertBefore(tag, firstScriptTag);\n});\n};\n\nif(typeof $3Dmolpromise === 'undefined') {\n$3Dmolpromise = null;\n  $3Dmolpromise = loadScriptAsync('https://3dmol.csb.pitt.edu/build/3Dmol.js');\n}\n\nvar viewer_16021485645313416 = null;\nvar warn = document.getElementById(\"3dmolwarning_16021485645313416\");\nif(warn) {\n    warn.parentNode.removeChild(warn);\n}\n$3Dmolpromise.then(function() {\nviewer_16021485645313416 = $3Dmol.createViewer($(\"#3dmolviewer_16021485645313416\"),{backgroundColor:\"white\"});\n\tviewer_16021485645313416.addModel(\"23 \\n\\n N      -0.59666303       0.48727927       0.66502118\\nC       0.45999808      -0.13672350       0.98476278\\nH       0.52576862      -0.49468972       2.01683619\\nH      -0.55931847       0.77590044      -0.31720669\\nC       1.85923802      -1.98722071       0.00319010\\nC       1.63880548      -0.47384274       0.11944550\\nH       1.93131317      -2.42087897       1.00665444\\nH       0.97929151      -2.43845232      -0.46709329\\nH       3.36622215      -4.30416176       0.06554853\\nH       1.50752849      -0.03303129      -0.87404423\\nH       2.53364961      -0.01784750       0.56100930\\nC       3.32259388      -3.84992332      -0.93152990\\nC       3.11125338      -2.34491548      -0.79210521\\nH       3.05010458      -1.89406568      -1.78940318\\nH       3.98680912      -1.89874248      -0.30602194\\nH       2.45333790      -4.29241312      -1.43220289\\nC       4.78314193      -5.71911232      -1.85195547\\nC       4.58840386      -4.21295741      -1.70347384\\nH       5.69703930      -5.95145988      -2.40088825\\nH       3.94632720      -6.17084725      -2.38956935\\nH       4.84889667      -6.20305017      -0.87457974\\nH       4.55131943      -3.74866865      -2.69504704\\nH       5.45630650      -3.77979710      -1.19424520\\n\",\"xyz\");\n\tviewer_16021485645313416.setStyle({\"sphere\": {\"scale\": \"0.15\"}, \"stick\": {\"radius\": \"0.05\"}});\n\tviewer_16021485645313416.zoom(7);\nviewer_16021485645313416.render();\n});\n</script>",
      "text/html": [
       "<div id=\"3dmolviewer_16021485645313416\"  style=\"position: relative; width: 600px; height: 500px\">\n",
       "        <p id=\"3dmolwarning_16021485645313416\" style=\"background-color:#ffcccc;color:black\">You appear to be running in JupyterLab (or JavaScript failed to load for some other reason).  You need to install the 3dmol extension: <br>\n",
       "        <tt>jupyter labextension install jupyterlab_3dmol</tt></p>\n",
       "        </div>\n",
       "<script>\n",
       "\n",
       "var loadScriptAsync = function(uri){\n",
       "  return new Promise((resolve, reject) => {\n",
       "    var tag = document.createElement('script');\n",
       "    tag.src = uri;\n",
       "    tag.async = true;\n",
       "    tag.onload = () => {\n",
       "      resolve();\n",
       "    };\n",
       "  var firstScriptTag = document.getElementsByTagName('script')[0];\n",
       "  firstScriptTag.parentNode.insertBefore(tag, firstScriptTag);\n",
       "});\n",
       "};\n",
       "\n",
       "if(typeof $3Dmolpromise === 'undefined') {\n",
       "$3Dmolpromise = null;\n",
       "  $3Dmolpromise = loadScriptAsync('https://3dmol.csb.pitt.edu/build/3Dmol.js');\n",
       "}\n",
       "\n",
       "var viewer_16021485645313416 = null;\n",
       "var warn = document.getElementById(\"3dmolwarning_16021485645313416\");\n",
       "if(warn) {\n",
       "    warn.parentNode.removeChild(warn);\n",
       "}\n",
       "$3Dmolpromise.then(function() {\n",
       "viewer_16021485645313416 = $3Dmol.createViewer($(\"#3dmolviewer_16021485645313416\"),{backgroundColor:\"white\"});\n",
       "\tviewer_16021485645313416.addModel(\"23 \\n\\n N      -0.59666303       0.48727927       0.66502118\\nC       0.45999808      -0.13672350       0.98476278\\nH       0.52576862      -0.49468972       2.01683619\\nH      -0.55931847       0.77590044      -0.31720669\\nC       1.85923802      -1.98722071       0.00319010\\nC       1.63880548      -0.47384274       0.11944550\\nH       1.93131317      -2.42087897       1.00665444\\nH       0.97929151      -2.43845232      -0.46709329\\nH       3.36622215      -4.30416176       0.06554853\\nH       1.50752849      -0.03303129      -0.87404423\\nH       2.53364961      -0.01784750       0.56100930\\nC       3.32259388      -3.84992332      -0.93152990\\nC       3.11125338      -2.34491548      -0.79210521\\nH       3.05010458      -1.89406568      -1.78940318\\nH       3.98680912      -1.89874248      -0.30602194\\nH       2.45333790      -4.29241312      -1.43220289\\nC       4.78314193      -5.71911232      -1.85195547\\nC       4.58840386      -4.21295741      -1.70347384\\nH       5.69703930      -5.95145988      -2.40088825\\nH       3.94632720      -6.17084725      -2.38956935\\nH       4.84889667      -6.20305017      -0.87457974\\nH       4.55131943      -3.74866865      -2.69504704\\nH       5.45630650      -3.77979710      -1.19424520\\n\",\"xyz\");\n",
       "\tviewer_16021485645313416.setStyle({\"sphere\": {\"scale\": \"0.15\"}, \"stick\": {\"radius\": \"0.05\"}});\n",
       "\tviewer_16021485645313416.zoom(7);\n",
       "viewer_16021485645313416.render();\n",
       "});\n",
       "</script>"
      ]
     },
     "metadata": {},
     "output_type": "display_data"
    }
   ],
   "source": [
    "import py3Dmol\n",
    "\n",
    "f = open(fname, 'r')\n",
    "XYZ_geo = f.read()\n",
    "N_atoms = md.file_len(fname)\n",
    "print('number of atoms:',N_atoms)\n",
    "# print('geometry:',XYZ_geo)\n",
    "p = py3Dmol.view(width=600,height=500)\n",
    "p.addModel(\"{} \\n\\n \".format(N_atoms) + XYZ_geo,'xyz')\n",
    "p.setStyle({'sphere':{'scale':'0.15'}, 'stick':{'radius':'0.05'}})\n",
    "p.zoom(7)\n",
    "p.show()"
   ]
  },
  {
   "cell_type": "code",
   "execution_count": 10,
   "metadata": {},
   "outputs": [
    {
     "name": "stdout",
     "output_type": "stream",
     "text": [
      "Considering 32 electrons in 40 orbitals\n",
      "---------NON-LOCALIZED_ORBITALS---------\n",
      "Normal ordering.....\n",
      "Done normal ordering\n"
     ]
    }
   ],
   "source": [
    "print('Considering', n_electrons, 'electrons in', n_orbitals, 'orbitals')\n",
    "print('---------NON-LOCALIZED_ORBITALS---------')\n",
    "localize = 0\n",
    "localize_virt = 0 \n",
    "# Initialize molecule\n",
    "molecule = MolecularData(\n",
    "    geometry, basis, multiplicity,\n",
    "    description=description)\n",
    "\n",
    "threshold = 1e-10 # If you want, you can set a threshold on the integrals. (Default: 0.)\n",
    "# Run pyscf.\n",
    "molecule = run_pyscf(molecule,\n",
    "                     threshold=threshold,\n",
    "                     run_scf=run_scf,\n",
    "                     run_mp2=run_mp2,\n",
    "                     run_cisd=run_cisd,\n",
    "                     run_ccsd=run_ccsd,\n",
    "                     run_fci=run_fci,\n",
    "                     run_casci=run_casci,\n",
    "                     n_electrons=n_electrons,\n",
    "                     n_orbitals=n_orbitals,\n",
    "                     verbose=verbose,\n",
    "                     localize=localize,\n",
    "                     localize_virt=localize_virt,\n",
    "                     localize_cas=localize_cas,\n",
    "                     only_cas=only_cas,\n",
    "                     save_tohdf5=save_tohdf5)\n",
    "\n",
    "molecular_hamiltonian = molecule.get_molecular_hamiltonian()\n",
    "# Fermionic 1-Norm:\n",
    "ferm1norm = np.sum(np.absolute(molecular_hamiltonian.one_body_tensor)) + \\\n",
    "         np.sum(np.absolute(molecular_hamiltonian.two_body_tensor)) + \\\n",
    "         np.absolute(molecular_hamiltonian.constant)\n",
    "\n",
    "# We can't do Jordan-Wigner anymore. Calculate the 1-norm with the JW1norm module instead:\n",
    "qub1norm = JW1norm(molecular_hamiltonian.constant,\n",
    "                   molecular_hamiltonian.one_body_tensor,\n",
    "                   molecular_hamiltonian.two_body_tensor)"
   ]
  },
  {
   "cell_type": "code",
   "execution_count": 11,
   "metadata": {
    "scrolled": true
   },
   "outputs": [
    {
     "name": "stdout",
     "output_type": "stream",
     "text": [
      "After finding the canonical molecular orbitals using Hartree-Fock, our molecule hnc7h14_s0min_dzp in an active space of 32 electrons in 40 orbitals, has a fermionic 1-norm of 12297.930098954308 and a qubit 1-norm of 2411.9884909975067\n"
     ]
    }
   ],
   "source": [
    "print(\"After finding the canonical molecular orbitals using Hartree-Fock, our molecule\",\\\n",
    "      fname.replace('.txt','').replace('xyz_files/',''), \"in an active space of\", str(n_electrons), \\\n",
    "      \"electrons in\", str(n_orbitals), \"orbitals, has a fermionic 1-norm of\", str(ferm1norm), \\\n",
    "      \"and a qubit 1-norm of\", str(qub1norm))"
   ]
  },
  {
   "cell_type": "markdown",
   "metadata": {},
   "source": [
    "Now we try localizing again, this time with Pipek-Mezey (ER takes a bit longer on this size molecule)."
   ]
  },
  {
   "cell_type": "code",
   "execution_count": 12,
   "metadata": {},
   "outputs": [
    {
     "name": "stdout",
     "output_type": "stream",
     "text": [
      "---------LOCALIZED_ORBITALS---------\n",
      "LOCALIZING TOGETHER n_core 16 ntot 56\n",
      "Normal ordering.....\n",
      "Done normal ordering\n"
     ]
    }
   ],
   "source": [
    "localize = 1\n",
    "localize_virt = 1 #Choose whether you want to localize the virtual MO's\n",
    "localizemethod = ['Boys','Pipek-Mezey','ibo','ER'][1]\n",
    "\n",
    "# You can also choose whether you want to mix occupied and virtual orbitals or seperate them when localizing\n",
    "localize_sep = 0\n",
    "\n",
    "Orth_AO = 0 # If you want to compute orthogonal AOs, please consider the full space (consider_cas = 0)\n",
    "print('---------LOCALIZED_ORBITALS---------')\n",
    "\n",
    "# Initialize molecule\n",
    "molecule = MolecularData(\n",
    "    geometry, basis, multiplicity,\n",
    "    description=description)\n",
    "\n",
    "# Run pyscf.\n",
    "molecule = run_pyscf(molecule,\n",
    "                     threshold=threshold,\n",
    "                     run_scf=run_scf,\n",
    "                     run_mp2=run_mp2,\n",
    "                     run_cisd=run_cisd,\n",
    "                     run_ccsd=run_ccsd,\n",
    "                     run_fci=run_fci,\n",
    "                     run_casci=run_casci,\n",
    "                     n_electrons=n_electrons,\n",
    "                     n_orbitals=n_orbitals,\n",
    "                     verbose=verbose,\n",
    "                     localize=localize,\n",
    "                     localizemethod=localizemethod,\n",
    "                     localize_virt=localize_virt,\n",
    "                     localize_cas=localize_cas,\n",
    "                     only_cas=only_cas,\n",
    "                     localize_sep=localize_sep,\n",
    "                     Orth_AO=Orth_AO,\n",
    "                     save_tohdf5=save_tohdf5)\n",
    "\n",
    "molecular_hamiltonian = molecule.get_molecular_hamiltonian()\n",
    "# Fermionic 1-Norm:\n",
    "ferm1norm = np.sum(np.absolute(molecular_hamiltonian.one_body_tensor)) + \\\n",
    "         np.sum(np.absolute(molecular_hamiltonian.two_body_tensor)) + \\\n",
    "         np.absolute(molecular_hamiltonian.constant)\n",
    "\n",
    "# Calculate the 1-norm with the JW1norm module:\n",
    "qub1norm = JW1norm(molecular_hamiltonian.constant,\n",
    "                   molecular_hamiltonian.one_body_tensor,\n",
    "                   molecular_hamiltonian.two_body_tensor)"
   ]
  },
  {
   "cell_type": "code",
   "execution_count": 13,
   "metadata": {},
   "outputs": [
    {
     "name": "stdout",
     "output_type": "stream",
     "text": [
      "After finding the Pipek-Mezey localized molecular orbitals, our molecule hnc7h14_s0min_dzp in an active space of 32 electrons in 40 orbitals, has a fermionic 1-norm of 2853.6395108307106 and a qubit 1-norm of 558.6300985663509\n"
     ]
    }
   ],
   "source": [
    "print(\"After finding the\", localizemethod, \"localized molecular orbitals, our molecule\",\\\n",
    "      fname.replace('.txt','').replace('xyz_files/',''), \"in an active space of\", str(n_electrons), \\\n",
    "      \"electrons in\", str(n_orbitals), \"orbitals, has a fermionic 1-norm of\", str(ferm1norm), \\\n",
    "      \"and a qubit 1-norm of\", str(qub1norm))"
   ]
  },
  {
   "cell_type": "markdown",
   "metadata": {},
   "source": [
    "We see that indeed we can lower the 1-norm significantly! With this code, you can try different localization schemes and molecules yourself."
   ]
  }
 ],
 "metadata": {
  "kernelspec": {
   "display_name": "Python 3",
   "language": "python",
   "name": "python3"
  },
  "language_info": {
   "codemirror_mode": {
    "name": "ipython",
    "version": 3
   },
   "file_extension": ".py",
   "mimetype": "text/x-python",
   "name": "python",
   "nbconvert_exporter": "python",
   "pygments_lexer": "ipython3",
   "version": "3.7.9"
  }
 },
 "nbformat": 4,
 "nbformat_minor": 4
}
